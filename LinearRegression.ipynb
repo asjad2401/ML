{
 "cells": [
  {
   "cell_type": "code",
   "execution_count": 1,
   "metadata": {},
   "outputs": [],
   "source": [
    "import numpy as np\n",
    "import pandas as pd\n",
    "import numpy.linalg as la\n",
    "import csv\n",
    "import matplotlib.pyplot as plt"
   ]
  },
  {
   "cell_type": "code",
   "execution_count": 2,
   "metadata": {},
   "outputs": [],
   "source": [
    "def scaleFeatures(vector):\n",
    "    max_val = max(vector)\n",
    "    min_val = min(vector)\n",
    "    for i in range(len(vector)):\n",
    "        vector[i] = (vector[i]-min_val)/(max_val-min_val)\n",
    "    return vector"
   ]
  },
  {
   "cell_type": "code",
   "execution_count": 3,
   "metadata": {},
   "outputs": [],
   "source": [
    "def createDataSets():\n",
    "    # Specify the path to your CSV file\n",
    "    csv_file_path = 'Housing.csv'\n",
    "\n",
    "    # Initialize lists to store the labels, row vector, and the remaining float values\n",
    "    Features_names = []\n",
    "    Y_train = []\n",
    "    X_train = []\n",
    "\n",
    "    # Open the CSV file\n",
    "    with open(csv_file_path, mode='r') as file:\n",
    "        # Create a CSV reader object\n",
    "        csv_reader = csv.reader(file)\n",
    "        \n",
    "        # Read the first row as labels\n",
    "        Features_names = next(csv_reader)\n",
    "        \n",
    "        # Iterate over the remaining rows in the CSV file\n",
    "        for row in csv_reader:\n",
    "            Y_train.append(float(row[0]))  # Append the first column value to the row vector and convert to float\n",
    "            trainEg = [float(value) for value in row[1:]]  # Convert the remaining values to floats\n",
    "            X_train.append(trainEg)\n",
    "\n",
    "    # Convert lists to numpy arrays\n",
    "    Y_train = np.array(Y_train)\n",
    "    Y_train = scaleFeatures(Y_train)\n",
    "    X_train = np.array(X_train)\n",
    "    col1=[]\n",
    "    for i in range(len(X_train)):\n",
    "        col1.append(X_train[i][0])\n",
    "    col1 = np.array(col1)\n",
    "    col1 = scaleFeatures(col1)\n",
    "    for i in range(len(X_train)):\n",
    "        X_train[i][0] = col1[i]\n",
    "    return Y_train,X_train\n"
   ]
  },
  {
   "cell_type": "code",
   "execution_count": 4,
   "metadata": {},
   "outputs": [],
   "source": [
    "def prediction(X_pred, w,b):\n",
    "    return np.dot(w, X_pred) + b"
   ]
  },
  {
   "cell_type": "code",
   "execution_count": 5,
   "metadata": {},
   "outputs": [],
   "source": [
    "def costFunction(w,b,X_train,Y_train):\n",
    "    m= len(Y_train)\n",
    "    cost = 0\n",
    "    for i in range(m):\n",
    "        Y_ = np.dot(w, X_train[i]) + b\n",
    "        cost += (Y_ - Y_train[i]) ** 2\n",
    "    return cost / (2 * m)"
   ]
  },
  {
   "cell_type": "code",
   "execution_count": 6,
   "metadata": {},
   "outputs": [],
   "source": [
    "def gradientDescent(X_train, Y_train, w,b):\n",
    "    m = len(Y_train)\n",
    "    dw = np.zeros(w.shape)\n",
    "    db = 0.0\n",
    "    for i in range(m):\n",
    "        f = np.dot(w, X_train[i]) + b\n",
    "        dw_i = (f - Y_train[i]) * X_train[i]\n",
    "        db_i = (f - Y_train[i])\n",
    "        dw += dw_i\n",
    "        db += db_i\n",
    "    dw /= m\n",
    "    db /= m\n",
    "    return dw, db"
   ]
  },
  {
   "cell_type": "code",
   "execution_count": 7,
   "metadata": {},
   "outputs": [],
   "source": [
    "def optimize(num_iters, X_train, Y_train, learning_rate):\n",
    "    n=X_train.shape[1]\n",
    "    w = np.ones(n, dtype=float)\n",
    "    b = 1.0\n",
    "    iterations =[]\n",
    "    costs =[]\n",
    "    for k in range(num_iters):\n",
    "        dw, db = gradientDescent(X_train, Y_train, w, b)\n",
    "        w -= learning_rate * dw\n",
    "        b -= learning_rate * db\n",
    "        if k % 100 == 0:\n",
    "            iterations.append(k)\n",
    "            thiscost = costFunction(w, b, X_train, Y_train)\n",
    "            costs.append(thiscost)\n",
    "\n",
    "            print(f\"Iteration {k}: Cost {thiscost}\")\n",
    "    return w, b , iterations, costs"
   ]
  },
  {
   "cell_type": "code",
   "execution_count": 8,
   "metadata": {},
   "outputs": [],
   "source": [
    "def model():\n",
    "    Y_train, X_train = createDataSets()\n",
    "    w, b, number,costs= optimize(1000, X_train, Y_train, 0.1)\n",
    "    #X_predict = [0.5432098,3,2,2,1,0,0,0,1,2,0,1]  # add values to make prediction from\n",
    "    # prediction_val = prediction(X_predict, w, b)\n",
    "    # print(prediction_val)\n",
    "    print(w,b)\n",
    "    plt.plot(number,costs)\n",
    "    plt.show()"
   ]
  },
  {
   "cell_type": "code",
   "execution_count": 9,
   "metadata": {},
   "outputs": [
    {
     "name": "stdout",
     "output_type": "stream",
     "text": [
      "Iteration 0: Cost 30.359509700314703\n",
      "Iteration 100: Cost 0.018429852266845147\n",
      "Iteration 200: Cost 0.009798440341319761\n",
      "Iteration 300: Cost 0.006861850529038553\n",
      "Iteration 400: Cost 0.005515983424466104\n",
      "Iteration 500: Cost 0.004873638289062169\n",
      "Iteration 600: Cost 0.004557821214054293\n",
      "Iteration 700: Cost 0.004397161805768921\n",
      "Iteration 800: Cost 0.004312060457339445\n",
      "Iteration 900: Cost 0.00426487890906533\n",
      "[0.37595975 0.0060978  0.08154355 0.04013198 0.02426979 0.02398819\n",
      " 0.03253712 0.09120454 0.07302396 0.02144867 0.05358017 0.03481935] -0.13155726878217056\n"
     ]
    },
    {
     "data": {
      "image/png": "[encoded data removed]",
      "text/plain": [
       "<Figure size 640x480 with 1 Axes>"
      ]
     },
     "metadata": {},
     "output_type": "display_data"
    }
   ],
   "source": [
    "model()"
   ]
  },
  {
   "cell_type": "code",
   "execution_count": null,
   "metadata": {},
   "outputs": [],
   "source": []
  },
  {
   "cell_type": "code",
   "execution_count": null,
   "metadata": {},
   "outputs": [],
   "source": []
  }
 ],
 "metadata": {
  "kernelspec": {
   "display_name": "Python 3",
   "language": "python",
   "name": "python3"
  },
  "language_info": {
   "codemirror_mode": {
    "name": "ipython",
    "version": 3
   },
   "file_extension": ".py",
   "mimetype": "text/x-python",
   "name": "python",
   "nbconvert_exporter": "python",
   "pygments_lexer": "ipython3",
   "version": "3.12.3"
  }
 },
 "nbformat": 4,
 "nbformat_minor": 2
}
