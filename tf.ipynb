{
 "cells": [
  {
   "cell_type": "code",
   "execution_count": 7,
   "metadata": {},
   "outputs": [],
   "source": [
    "import tensorflow as tf\n",
    "import numpy as np\n",
    "import csv"
   ]
  },
  {
   "cell_type": "code",
   "execution_count": 8,
   "metadata": {},
   "outputs": [],
   "source": [
    "def scaleFeatures(vector):\n",
    "    max_val = max(vector)\n",
    "    min_val = min(vector)\n",
    "    for i in range(len(vector)):\n",
    "        vector[i] = (vector[i]-min_val)/(max_val-min_val)\n",
    "    return vector"
   ]
  },
  {
   "cell_type": "code",
   "execution_count": 9,
   "metadata": {},
   "outputs": [],
   "source": [
    "def createDataSets():\n",
    "    # Specify the path to your CSV file\n",
    "    csv_file_path = 'heart.csv'\n",
    "\n",
    "    # Initialize lists to store the labels, row vector, and the remaining float values\n",
    "    Features_names = []\n",
    "    Y_train = []\n",
    "    X_train = []\n",
    "\n",
    "    # Open the CSV file\n",
    "    with open(csv_file_path, mode='r') as file:\n",
    "        # Create a CSV reader object\n",
    "        csv_reader = csv.reader(file)\n",
    "        \n",
    "        # Read the first row as labels\n",
    "        Features_names = next(csv_reader)\n",
    "        \n",
    "        # Iterate over the remaining rows in the CSV file\n",
    "        for row in csv_reader:\n",
    "            Y_train.append(float(row[-1]))  # Append the first column value to the row vector and convert to float\n",
    "            trainEg = [float(value) for value in row[0:-1]]  # Convert the remaining values to floats\n",
    "            X_train.append(trainEg)\n",
    "\n",
    "    # Convert lists to numpy arrays\n",
    "    Y_train = np.array(Y_train)\n",
    "    X_train = np.array(X_train)\n",
    "    # col 1 4 5 8 \n",
    "    col1=[]\n",
    "    col4=[]\n",
    "    col5=[]\n",
    "    col8=[]\n",
    "    for i in range(len(X_train)):\n",
    "        col1.append(X_train[i][0])\n",
    "        col4.append(X_train[i][3])\n",
    "        col5.append(X_train[i][4])\n",
    "        col8.append(X_train[i][7])\n",
    "    col1 = np.array(col1)\n",
    "    col1 = scaleFeatures(col1)\n",
    "    col4 = np.array(col4)\n",
    "    col4 = scaleFeatures(col4)\n",
    "    col5 = np.array(col5)\n",
    "    col5 = scaleFeatures(col5)\n",
    "    col8 = np.array(col8)\n",
    "    col8 = scaleFeatures(col8)\n",
    "    for i in range(len(X_train)):\n",
    "        X_train[i][0] = col1[i]\n",
    "        X_train[i][3] = col4[i]\n",
    "        X_train[i][4] = col5[i]\n",
    "        X_train[i][7] = col8[i]\n",
    "    return Y_train,X_train\n",
    "\n",
    "\n"
   ]
  },
  {
   "cell_type": "code",
   "execution_count": null,
   "metadata": {},
   "outputs": [],
   "source": []
  }
 ],
 "metadata": {
  "kernelspec": {
   "display_name": "Python 3",
   "language": "python",
   "name": "python3"
  },
  "language_info": {
   "codemirror_mode": {
    "name": "ipython",
    "version": 3
   },
   "file_extension": ".py",
   "mimetype": "text/x-python",
   "name": "python",
   "nbconvert_exporter": "python",
   "pygments_lexer": "ipython3",
   "version": "3.12.3"
  }
 },
 "nbformat": 4,
 "nbformat_minor": 2
}
