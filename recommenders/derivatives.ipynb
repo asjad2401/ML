{
 "cells": [
  {
   "cell_type": "code",
   "execution_count": 18,
   "metadata": {},
   "outputs": [],
   "source": [
    "\n",
    "import numpy as np\n",
    "import tensorflow as tf\n",
    "from tensorflow import keras"
   ]
  },
  {
   "cell_type": "code",
   "execution_count": 14,
   "metadata": {},
   "outputs": [
    {
     "name": "stdout",
     "output_type": "stream",
     "text": [
      "Final value of w: 1.0000028610229492\n"
     ]
    }
   ],
   "source": [
    "w = tf.Variable(3.0)\n",
    "x = 1.0\n",
    "y =1.0\n",
    "alpha = 0.01\n",
    "iterations = 1000\n",
    "for iter in range(iterations):\n",
    "    with tf.GradientTape() as tape:\n",
    "        fwb = w*x\n",
    "        costJ = (fwb-y)**2\n",
    "    [djdw]= tape.gradient(costJ, [w])\n",
    "    w.assign_add(-alpha*djdw)\n",
    "\n",
    "print(f\"Final value of w: {w.numpy()}\")"
   ]
  },
  {
   "cell_type": "code",
   "execution_count": 16,
   "metadata": {},
   "outputs": [],
   "source": [
    "def cofiCostFuncV(X,W,b,Ynorm,R,nu,nm,Lambda):\n",
    "    return 0\n",
    "def findDerivative(X,W,b,Ynorm,R,nu,nm,Lambda):\n",
    "    optimizer = tf.keras.optimizers.Adam(learning_rate=0.01)\n",
    "    iterations =100\n",
    "    for iter in range(iterations):\n",
    "        with tf.GradientTape() as tape:\n",
    "            # here wrte the formula to compute J\n",
    "            cost_value = cofiCostFuncV(X,W,b,Ynorm,R,nu,nm,Lambda)\n",
    "            \n",
    "            grads= tape.gradient(cost_value,[X,W,b])\n",
    "            optimizer.apply_gradients(zip(grads,[X,W,b]))"
   ]
  },
  {
   "cell_type": "code",
   "execution_count": null,
   "metadata": {},
   "outputs": [],
   "source": []
  }
 ],
 "metadata": {
  "kernelspec": {
   "display_name": "Python 3",
   "language": "python",
   "name": "python3"
  },
  "language_info": {
   "codemirror_mode": {
    "name": "ipython",
    "version": 3
   },
   "file_extension": ".py",
   "mimetype": "text/x-python",
   "name": "python",
   "nbconvert_exporter": "python",
   "pygments_lexer": "ipython3",
   "version": "3.12.3"
  }
 },
 "nbformat": 4,
 "nbformat_minor": 2
}
