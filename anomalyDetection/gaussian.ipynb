{
 "cells": [
  {
   "cell_type": "code",
   "execution_count": 1,
   "metadata": {},
   "outputs": [],
   "source": [
    "import numpy as np\n"
   ]
  },
  {
   "cell_type": "code",
   "execution_count": 2,
   "metadata": {},
   "outputs": [],
   "source": [
    "\n",
    "def estimate_gaussian(X): \n",
    "\n",
    "    m, n = X.shape\n",
    "    mu=[]\n",
    "    var=[]\n",
    "    for j in range(n):\n",
    "        muj=0\n",
    "        for i in range(m):\n",
    "            muj+= X[i][j]\n",
    "        \n",
    "        muj/=m\n",
    "        mu.append(muj)\n",
    "            \n",
    "        varj=0\n",
    "        for i in range(m):\n",
    "            varj+=(X[i][j] - mu[j])**2\n",
    "            \n",
    "        varj/=m\n",
    "        var.append(varj)\n",
    "    mu = np.array(mu)\n",
    "    var = np.array(var)\n",
    "    return mu, var"
   ]
  },
  {
   "cell_type": "code",
   "execution_count": null,
   "metadata": {},
   "outputs": [],
   "source": []
  }
 ],
 "metadata": {
  "kernelspec": {
   "display_name": "Python 3",
   "language": "python",
   "name": "python3"
  },
  "language_info": {
   "codemirror_mode": {
    "name": "ipython",
    "version": 3
   },
   "file_extension": ".py",
   "mimetype": "text/x-python",
   "name": "python",
   "nbconvert_exporter": "python",
   "pygments_lexer": "ipython3",
   "version": "3.12.3"
  }
 },
 "nbformat": 4,
 "nbformat_minor": 2
}
