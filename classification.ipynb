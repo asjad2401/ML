{
 "cells": [
  {
   "cell_type": "code",
   "execution_count": 80,
   "metadata": {},
   "outputs": [],
   "source": [
    "import numpy as np\n",
    "import matplotlib.pyplot as plt\n",
    "import csv"
   ]
  },
  {
   "cell_type": "code",
   "execution_count": 81,
   "metadata": {},
   "outputs": [],
   "source": [
    "def scaleFeatures(vector):\n",
    "    max_val = max(vector)\n",
    "    min_val = min(vector)\n",
    "    for i in range(len(vector)):\n",
    "        vector[i] = (vector[i]-min_val)/(max_val-min_val)\n",
    "    return vector"
   ]
  },
  {
   "cell_type": "code",
   "execution_count": 93,
   "metadata": {},
   "outputs": [],
   "source": [
    "def createDataSets():\n",
    "    # Specify the path to your CSV file\n",
    "    csv_file_path = 'heart.csv'\n",
    "\n",
    "    # Initialize lists to store the labels, row vector, and the remaining float values\n",
    "    Features_names = []\n",
    "    Y_train = []\n",
    "    X_train = []\n",
    "\n",
    "    # Open the CSV file\n",
    "    with open(csv_file_path, mode='r') as file:\n",
    "        # Create a CSV reader object\n",
    "        csv_reader = csv.reader(file)\n",
    "        \n",
    "        # Read the first row as labels\n",
    "        Features_names = next(csv_reader)\n",
    "        \n",
    "        # Iterate over the remaining rows in the CSV file\n",
    "        for row in csv_reader:\n",
    "            Y_train.append(float(row[-1]))  # Append the first column value to the row vector and convert to float\n",
    "            trainEg = [float(value) for value in row[0:-1]]  # Convert the remaining values to floats\n",
    "            X_train.append(trainEg)\n",
    "\n",
    "    # Convert lists to numpy arrays\n",
    "    Y_train = np.array(Y_train)\n",
    "    X_train = np.array(X_train)\n",
    "    # col 1 4 5 8 \n",
    "    col1=[]\n",
    "    col4=[]\n",
    "    col5=[]\n",
    "    col8=[]\n",
    "    for i in range(len(X_train)):\n",
    "        col1.append(X_train[i][0])\n",
    "        col4.append(X_train[i][3])\n",
    "        col5.append(X_train[i][4])\n",
    "        col8.append(X_train[i][7])\n",
    "    col1 = np.array(col1)\n",
    "    col1 = scaleFeatures(col1)\n",
    "    col4 = np.array(col4)\n",
    "    col4 = scaleFeatures(col4)\n",
    "    col5 = np.array(col5)\n",
    "    col5 = scaleFeatures(col5)\n",
    "    col8 = np.array(col8)\n",
    "    col8 = scaleFeatures(col8)\n",
    "    for i in range(len(X_train)):\n",
    "        X_train[i][0] = col1[i]\n",
    "        X_train[i][3] = col4[i]\n",
    "        X_train[i][4] = col5[i]\n",
    "        X_train[i][7] = col8[i]\n",
    "\n",
    "    return Y_train,X_train\n"
   ]
  },
  {
   "cell_type": "code",
   "execution_count": 101,
   "metadata": {},
   "outputs": [],
   "source": [
    "def sigmoid(z):\n",
    "    g = 1/(1+np.exp(-z))\n",
    "    return g"
   ]
  },
  {
   "cell_type": "code",
   "execution_count": 107,
   "metadata": {},
   "outputs": [],
   "source": [
    "def predict(X_pred, w,b):\n",
    "    z = np.dot(X_pred,w) +b\n",
    "    pred=sigmoid(z)\n",
    "    print(pred)\n",
    "    if pred > 0.5:\n",
    "        return 1\n",
    "    else:\n",
    "        return 0"
   ]
  },
  {
   "cell_type": "code",
   "execution_count": 108,
   "metadata": {},
   "outputs": [],
   "source": [
    "def cost(w,b,X,y):\n",
    "    Cost =0\n",
    "    m = len(y)\n",
    "    for i in range(m):\n",
    "        z_i = np.dot(w,X[i])+b\n",
    "        f_wb_i = sigmoid(z_i)\n",
    "        Cost +=  -y[i]*np.log(f_wb_i) - (1-y[i])*np.log(1-f_wb_i)\n",
    "    Cost/=m\n",
    "    return Cost\n",
    "\n"
   ]
  },
  {
   "cell_type": "code",
   "execution_count": 119,
   "metadata": {},
   "outputs": [],
   "source": [
    "def gradientDescent(X_train, Y_train, w,b):\n",
    "    m,n = X_train.shape\n",
    "    dw = np.zeros(w.shape)\n",
    "    db = 0.0\n",
    "    for i in range(m):\n",
    "        z = np.dot(w, X_train[i]) + b\n",
    "        f= sigmoid(z)\n",
    "        for j in range(n):\n",
    "            dw[j] = (f - Y_train[i])* X_train[i][j]\n",
    "        dw_i = (f - Y_train[i]) * X_train[i]\n",
    "        db_i = (f - Y_train[i])\n",
    "        dw += dw_i\n",
    "        db += db_i\n",
    "    dw /= m\n",
    "    db /= m\n",
    "    return dw, db"
   ]
  },
  {
   "cell_type": "code",
   "execution_count": 127,
   "metadata": {},
   "outputs": [],
   "source": [
    "def optimize(num_iters, X_train, Y_train, learning_rate):\n",
    "    n=X_train.shape[1]\n",
    "    w = np.ones(n, dtype=float)\n",
    "    b = 1.0\n",
    "    iterations =[]\n",
    "    costs =[]\n",
    "    for k in range(num_iters):\n",
    "        dw, db = gradientDescent(X_train, Y_train, w, b)\n",
    "        w -= learning_rate * dw\n",
    "        b -= learning_rate * db\n",
    "        if (k % 100 == 0):\n",
    "            iterations.append(k)\n",
    "            thiscost = cost(w, b, X_train, Y_train)\n",
    "            costs.append(thiscost)\n",
    "\n",
    "            print(f\"Iteration {k}: Cost {thiscost}\")\n",
    "    return w, b , iterations, costs"
   ]
  },
  {
   "cell_type": "code",
   "execution_count": 125,
   "metadata": {},
   "outputs": [],
   "source": [
    "def model():\n",
    "    Y_train, X_train = createDataSets()\n",
    "    w, b, iterations, costs = optimize(1000,X_train, Y_train, 0.1)\n",
    "    plt.plot(iterations,costs)\n",
    "    plt.show()\n",
    "    X_pred = [0.39583333, 0, 2, 0.33962264, 0.34018265, 0,1, 0.51908397, 0, 0.2, 2, 0,2]\n",
    "    print(predict(X_pred,w,b))\n",
    "    "
   ]
  },
  {
   "cell_type": "code",
   "execution_count": 128,
   "metadata": {},
   "outputs": [
    {
     "name": "stdout",
     "output_type": "stream",
     "text": [
      "Iteration 0: Cost 5.299834918678642\n",
      "Iteration 100: Cost 2.9950036748203863\n",
      "Iteration 200: Cost 1.602001980330835\n",
      "Iteration 300: Cost 1.4386384512301351\n",
      "Iteration 400: Cost 1.4289531804003517\n",
      "Iteration 500: Cost 1.4264493721356128\n",
      "Iteration 600: Cost 1.424184467887377\n",
      "Iteration 700: Cost 1.4219147340729887\n",
      "Iteration 800: Cost 1.4196461592619303\n",
      "Iteration 900: Cost 1.4173828377093902\n"
     ]
    },
    {
     "data": {
      "image/png": "[encoded data removed]",
      "text/plain": [
       "<Figure size 640x480 with 1 Axes>"
      ]
     },
     "metadata": {},
     "output_type": "display_data"
    },
    {
     "name": "stdout",
     "output_type": "stream",
     "text": [
      "0.31813427415736123\n",
      "0\n"
     ]
    }
   ],
   "source": [
    "model()"
   ]
  },
  {
   "cell_type": "code",
   "execution_count": null,
   "metadata": {},
   "outputs": [],
   "source": []
  }
 ],
 "metadata": {
  "kernelspec": {
   "display_name": "Python 3",
   "language": "python",
   "name": "python3"
  },
  "language_info": {
   "codemirror_mode": {
    "name": "ipython",
    "version": 3
   },
   "file_extension": ".py",
   "mimetype": "text/x-python",
   "name": "python",
   "nbconvert_exporter": "python",
   "pygments_lexer": "ipython3",
   "version": "3.12.3"
  }
 },
 "nbformat": 4,
 "nbformat_minor": 2
}
