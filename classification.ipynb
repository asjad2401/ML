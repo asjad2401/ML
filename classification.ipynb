{
 "cells": [
  {
   "cell_type": "code",
   "execution_count": 1,
   "metadata": {},
   "outputs": [],
   "source": [
    "import numpy as np\n",
    "import matplotlib.pyplot as plt\n",
    "import csv"
   ]
  },
  {
   "cell_type": "code",
   "execution_count": 2,
   "metadata": {},
   "outputs": [],
   "source": [
    "def scaleFeatures(vector):\n",
    "    max_val = max(vector)\n",
    "    min_val = min(vector)\n",
    "    for i in range(len(vector)):\n",
    "        vector[i] = (vector[i]-min_val)/(max_val-min_val)\n",
    "    return vector"
   ]
  },
  {
   "cell_type": "code",
   "execution_count": 4,
   "metadata": {},
   "outputs": [],
   "source": [
    "def createDataSets():\n",
    "    # Specify the path to your CSV file\n",
    "    csv_file_path = 'heart.csv'\n",
    "\n",
    "    # Initialize lists to store the labels, row vector, and the remaining float values\n",
    "    Features_names = []\n",
    "    Y_train = []\n",
    "    X_train = []\n",
    "\n",
    "    # Open the CSV file\n",
    "    with open(csv_file_path, mode='r') as file:\n",
    "        # Create a CSV reader object\n",
    "        csv_reader = csv.reader(file)\n",
    "        \n",
    "        # Read the first row as labels\n",
    "        Features_names = next(csv_reader)\n",
    "        \n",
    "        # Iterate over the remaining rows in the CSV file\n",
    "        for row in csv_reader:\n",
    "            Y_train.append(float(row[-1]))  # Append the first column value to the row vector and convert to float\n",
    "            trainEg = [float(value) for value in row[0:-1]]  # Convert the remaining values to floats\n",
    "            X_train.append(trainEg)\n",
    "\n",
    "    # Convert lists to numpy arrays\n",
    "    Y_train = np.array(Y_train)\n",
    "    X_train = np.array(X_train)\n",
    "    # col 1 4 5 8 \n",
    "    col1=[]\n",
    "    col4=[]\n",
    "    col5=[]\n",
    "    col8=[]\n",
    "    for i in range(len(X_train)):\n",
    "        col1.append(X_train[i][0])\n",
    "        col4.append(X_train[i][3])\n",
    "        col5.append(X_train[i][4])\n",
    "        col8.append(X_train[i][7])\n",
    "    col1 = np.array(col1)\n",
    "    col1 = scaleFeatures(col1)\n",
    "    col4 = np.array(col4)\n",
    "    col4 = scaleFeatures(col4)\n",
    "    col5 = np.array(col5)\n",
    "    col5 = scaleFeatures(col5)\n",
    "    col8 = np.array(col8)\n",
    "    col8 = scaleFeatures(col8)\n",
    "    for i in range(len(X_train)):\n",
    "        X_train[i][0] = col1[i]\n",
    "        X_train[i][3] = col4[i]\n",
    "        X_train[i][4] = col5[i]\n",
    "        X_train[i][7] = col8[i]\n",
    "    return Y_train,X_train\n",
    "\n",
    "\n"
   ]
  },
  {
   "cell_type": "code",
   "execution_count": 5,
   "metadata": {},
   "outputs": [],
   "source": [
    "def sigmoid(z):\n",
    "    g = 1/(1+np.exp(-z))\n",
    "    return g"
   ]
  },
  {
   "cell_type": "code",
   "execution_count": 6,
   "metadata": {},
   "outputs": [],
   "source": [
    "def predict(X_pred, w,b):\n",
    "    z = np.dot(X_pred, w) + b\n",
    "    f = sigmoid(z)\n",
    "    print(f)\n",
    "    return( (f >= 0.5).astype(int))"
   ]
  },
  {
   "cell_type": "code",
   "execution_count": 7,
   "metadata": {},
   "outputs": [],
   "source": [
    "def cost(w,b,X,y):\n",
    "    Cost =0\n",
    "    m = len(y)\n",
    "    for i in range(m):\n",
    "        z_i = np.dot(w,X[i])+b\n",
    "        f_wb_i = sigmoid(z_i)\n",
    "        Cost +=  -y[i]*np.log(f_wb_i) - (1-y[i])*np.log(1-f_wb_i)\n",
    "    Cost/=m\n",
    "    return Cost\n",
    "\n"
   ]
  },
  {
   "cell_type": "code",
   "execution_count": 8,
   "metadata": {},
   "outputs": [],
   "source": [
    "# UNQ_C5\n",
    "def cost_reg(X, y, w, b, lambda_ = 1):\n",
    "\n",
    "\n",
    "    m, n = X.shape\n",
    "    cost_without_reg = cost(X, y, w, b) \n",
    "\n",
    "    reg_cost = 0.\n",
    "\n",
    "    for j in range(n):\n",
    "        reg_cost_j =w[j]*w[j]\n",
    "        reg_cost = reg_cost + reg_cost_j\n",
    "    reg_cost = (lambda_/(2 * m)) * reg_cost\n",
    "\n",
    "    total_cost = cost_without_reg + reg_cost\n",
    "\n",
    "    return total_cost"
   ]
  },
  {
   "cell_type": "code",
   "execution_count": 9,
   "metadata": {},
   "outputs": [],
   "source": [
    "def gradientDescent(X_train, Y_train, w,b):\n",
    "    m, n = X_train.shape\n",
    "    dw = np.zeros(w.shape)\n",
    "    db = 0.\n",
    "\n",
    "    for i in range (m):\n",
    "        f= sigmoid(np.dot(X_train[i],w)+b)\n",
    "        \n",
    "        dbi=(f-Y_train[i])\n",
    "        db+=dbi\n",
    "        for j in range(n):\n",
    "            dwij = (f- Y_train[i])*X_train[i][j]\n",
    "            dw[j]+= dwij\n",
    "\n",
    "    dw/=m\n",
    "    db/=m\n",
    "    return dw,db"
   ]
  },
  {
   "cell_type": "code",
   "execution_count": 10,
   "metadata": {},
   "outputs": [],
   "source": [
    "# UNQ_C6\n",
    "def gradient_reg(X, y, w, b, lambda_ = 1): \n",
    "    m, n = X.shape\n",
    "    \n",
    "    dj_db, dj_dw = gradientDescent(X, y, w, b)\n",
    "   \n",
    "    for j in range(n): \n",
    "\n",
    "          dj_dw_j_reg = w[j]*lambda_/m\n",
    "\n",
    "         \n",
    "          dj_dw[j] = dj_dw[j] + dj_dw_j_reg\n",
    "\n",
    "    return dj_db, dj_dw"
   ]
  },
  {
   "cell_type": "code",
   "execution_count": 11,
   "metadata": {},
   "outputs": [],
   "source": [
    "def optimize(num_iters, X_train, Y_train, learning_rate):\n",
    "    n=X_train.shape[1]\n",
    "    w = np.zeros(n, dtype=float)\n",
    "    b = 0.0\n",
    "    iterations =[]\n",
    "    costs =[]\n",
    "    for k in range(num_iters):\n",
    "        dw, db = gradientDescent(X_train, Y_train, w, b)\n",
    "        w -= learning_rate * dw\n",
    "        b -= learning_rate * db\n",
    "        if (k % 100 == 0):\n",
    "            iterations.append(k)\n",
    "            thiscost = cost(w, b, X_train, Y_train)\n",
    "            costs.append(thiscost)\n",
    "\n",
    "            print(f\"Iteration {k}: Cost {thiscost}\")\n",
    "    return w, b , iterations, costs"
   ]
  },
  {
   "cell_type": "code",
   "execution_count": 13,
   "metadata": {},
   "outputs": [],
   "source": [
    "def model():\n",
    "    Y_train, X_train = createDataSets()\n",
    "    w, b, iterations, costs = optimize(1000,X_train, Y_train, 0.08)\n",
    "    plt.plot(iterations,costs)\n",
    "    plt.show()\n",
    "    X_pred =np.array([0.41666667 ,1,1, 0.33962264 ,0.3196347  ,0,1,0.76335878 ,0,0.6,2,0,2])\n",
    "    print(predict(X_pred,w,b))\n",
    "    "
   ]
  },
  {
   "cell_type": "code",
   "execution_count": 14,
   "metadata": {},
   "outputs": [
    {
     "name": "stdout",
     "output_type": "stream",
     "text": [
      "Iteration 0: Cost 0.6785348356681891\n",
      "Iteration 100: Cost 0.41488481366821084\n",
      "Iteration 200: Cost 0.3934135939084664\n",
      "Iteration 300: Cost 0.38459461832221675\n",
      "Iteration 400: Cost 0.3793427993167487\n",
      "Iteration 500: Cost 0.37575563990664956\n",
      "Iteration 600: Cost 0.3731171950477287\n",
      "Iteration 700: Cost 0.37107187628117894\n",
      "Iteration 800: Cost 0.36941916859405977\n",
      "Iteration 900: Cost 0.36803834121544643\n"
     ]
    },
    {
     "data": {
      "image/png": "[encoded data removed]",
      "text/plain": [
       "<Figure size 640x480 with 1 Axes>"
      ]
     },
     "metadata": {},
     "output_type": "display_data"
    },
    {
     "name": "stdout",
     "output_type": "stream",
     "text": [
      "0.8851164321793351\n",
      "1\n"
     ]
    }
   ],
   "source": [
    "model()"
   ]
  },
  {
   "cell_type": "code",
   "execution_count": null,
   "metadata": {},
   "outputs": [],
   "source": []
  }
 ],
 "metadata": {
  "kernelspec": {
   "display_name": "Python 3",
   "language": "python",
   "name": "python3"
  },
  "language_info": {
   "codemirror_mode": {
    "name": "ipython",
    "version": 3
   },
   "file_extension": ".py",
   "mimetype": "text/x-python",
   "name": "python",
   "nbconvert_exporter": "python",
   "pygments_lexer": "ipython3",
   "version": "3.12.3"
  }
 },
 "nbformat": 4,
 "nbformat_minor": 2
}
