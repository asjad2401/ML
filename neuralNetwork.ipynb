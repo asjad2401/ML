{
 "cells": [
  {
   "cell_type": "code",
   "execution_count": 1,
   "metadata": {},
   "outputs": [],
   "source": [
    "import numpy as np\n",
    "import matplotlib.pyplot as plt\n",
    "import copy"
   ]
  },
  {
   "cell_type": "code",
   "execution_count": 2,
   "metadata": {},
   "outputs": [],
   "source": [
    "def sigmoid(x):\n",
    "    s= 1 /(1+np.exp(-x))\n",
    "    return s\n"
   ]
  },
  {
   "cell_type": "code",
   "execution_count": 8,
   "metadata": {},
   "outputs": [],
   "source": [
    "def initialize_with_zeros(dim):\n",
    "    w = np.random.randn((dim,1)) * 0.01\n",
    "    b= 0.0\n",
    "    return w, b #w is weights and b is bias intialized to arbitrary values i.e 0\n"
   ]
  },
  {
   "cell_type": "code",
   "execution_count": 4,
   "metadata": {},
   "outputs": [],
   "source": [
    "def propagate(w, b, X, Y):\n",
    "\n",
    "    '''\n",
    "    w -- weights, a numpy array of size (num_px * num_px * 3, 1)\n",
    "    b -- bias, a scalar\n",
    "    X -- data of size (num_px * num_px * 3, number of examples)\n",
    "    Y -- true \"label\" vector (containing 0, 1 depeding on true values ) of size (1, number of examples)\n",
    "    '''\n",
    "    \n",
    "    m = X.shape[1] #number of examples\n",
    "\n",
    "    #forward propagation\n",
    "    #dw and db are the derivatives of cost function with respect to w and b\n",
    "    #these are calculated using chain rule of partial differentiation\n",
    "    A = sigmoid((np.dot(w.transpose(),X))+b)\n",
    "    dZ = A - Y\n",
    "    dw = (1/m)*np.dot(X,dZ.transpose())\n",
    "    db = (1/m)*np.sum(dZ)\n",
    "\n",
    "    #backward propagation\n",
    "    #cost function is calculated using log likelihood function j = -1/m * sum(ylog(a) + (1-y)log(1-a))\n",
    "    j = np.dot(Y,np.log(A).transpose()) + np.dot((1-Y),np.log(1-A).transpose())\n",
    "    cost = (-1/m)*np.sum(j)\n",
    "\n",
    "    cost = np.squeeze(np.array(cost))\n",
    "    grads = {\"dw\": dw,\n",
    "             \"db\": db}\n",
    "    return grads, cost\n"
   ]
  },
  {
   "cell_type": "code",
   "execution_count": 5,
   "metadata": {},
   "outputs": [],
   "source": [
    "def optimize(w, b, X, Y, num_iterations=2000, learning_rate=0.5, print_cost=False):\n",
    "\n",
    "    w = copy.deepcopy(w)\n",
    "    b = copy.deepcopy(b)\n",
    "    costs = []\n",
    "\n",
    "    #run the forward and backward propagation for some number of iterations to update gradiend descent\n",
    "    for i in range(num_iterations):\n",
    "        #run the propogation\n",
    "        grads,cost = propagate(w,b,X,Y)\n",
    "        dw = grads[\"dw\"]\n",
    "        db = grads[\"db\"]\n",
    "        #these are values of d weights and d bias for for one loop of grad desc\n",
    "\n",
    "        #update the weights and bias using learning rate and derivatives. this is gradient descent implemented\n",
    "        w = w- learning_rate*dw\n",
    "        b = b - learning_rate*db\n",
    "\n",
    "        if i % 100 == 0:\n",
    "            costs.append(cost)\n",
    "        \n",
    "            # Print the cost every 100 training iterations\n",
    "            if print_cost:\n",
    "                print (\"Cost after iteration %i: %f\" %(i, cost))\n",
    "    \n",
    "    #here the w and b has been learned from data.\n",
    "    params = {\"w\": w,\n",
    "              \"b\": b}\n",
    "    \n",
    "    grads = {\"dw\": dw,\n",
    "             \"db\": db}\n",
    "    \n",
    "    return params, grads, costs"
   ]
  },
  {
   "cell_type": "code",
   "execution_count": 6,
   "metadata": {},
   "outputs": [],
   "source": [
    "def predict(w, b, X):\n",
    "\n",
    "    #this method will be used to predict after the model has been trained\n",
    "    m = X.shape[0]\n",
    "    Y_prediction = np.zeros((1, m))\n",
    "    w = w.reshape(X.shape[0], 1)\n",
    "\n",
    "    #using the w and b as learned from training data, we predict the values of Y i.e Y' = sigmoid(w.transpose()*X+b)\n",
    "    A = sigmoid(np.dot(w.transpose(),X)+b)\n",
    "    Y_prediction = A.round() #rounding the values to 0 or 1\n",
    "    return Y_prediction\n"
   ]
  },
  {
   "cell_type": "code",
   "execution_count": 7,
   "metadata": {},
   "outputs": [],
   "source": [
    "def load_dataset():\n",
    "    X_train = np.array([[1,1],\n",
    "                        [1,2],\n",
    "                        [1,3],\n",
    "                        [1,4],\n",
    "                        [2,1],\n",
    "                        [3,1],\n",
    "                        [4,1],\n",
    "                        [2,4],\n",
    "                        [4,2],\n",
    "                        [3,3],\n",
    "                        [1,5],\n",
    "                        [5,1],\n",
    "                        [2,2],\n",
    "                        [3,2],\n",
    "                        [2,3],\n",
    "                        [2.5,2.5],\n",
    "                        [2.5,3],\n",
    "                        [3,2.5],\n",
    "                        [2.1,2.6]\n",
    "\n",
    "\n",
    "                        ])\n",
    "    Y_train = [0,0,0,0,0,0,0,0,0,0,0,0,1,1,1,1,1,1,1,1]\n",
    "\n",
    "    "
   ]
  },
  {
   "cell_type": "code",
   "execution_count": null,
   "metadata": {},
   "outputs": [],
   "source": []
  }
 ],
 "metadata": {
  "kernelspec": {
   "display_name": "Python 3",
   "language": "python",
   "name": "python3"
  },
  "language_info": {
   "codemirror_mode": {
    "name": "ipython",
    "version": 3
   },
   "file_extension": ".py",
   "mimetype": "text/x-python",
   "name": "python",
   "nbconvert_exporter": "python",
   "pygments_lexer": "ipython3",
   "version": "3.12.3"
  }
 },
 "nbformat": 4,
 "nbformat_minor": 2
}
